{
 "cells": [
  {
   "cell_type": "code",
   "execution_count": null,
   "metadata": {
    "collapsed": true,
    "pycharm": {
     "name": "#%%\n"
    },
    "is_executing": true
   },
   "outputs": [],
   "source": [
    "\n",
    "import cv2\n",
    "import numpy as np\n",
    "import matplotlib.pyplot as plt"
   ]
  },
  {
   "cell_type": "code",
   "execution_count": null,
   "outputs": [],
   "source": [
    "def imagej_hist(src):\n",
    "    maximum = np.max(src)\n",
    "    minimum = np.min(src)\n",
    "    scale_map = np.linspace(minimum, maximum, num=2**8, endpoint=False)\n",
    "    scale_map = np.append(scale_map, maximum)\n",
    "    hist = []\n",
    "    for i in range(2**8):\n",
    "        up = len(np.where(src>=scale_map[i])[0])\n",
    "        down = len(np.where(src<scale_map[i+1])[0])\n",
    "        hist.append(up + down - src.size)\n",
    "    return hist\n",
    "\n",
    "def auto_br(input_src):\n",
    "    \"\"\"\n",
    "    Copy from imageJ\n",
    "    \"\"\"\n",
    "    src = input_src\n",
    "    h, w = src.shape[:2]\n",
    "    src_min = np.min(src)\n",
    "    src_max = np.max(src)\n",
    "    pixel_count = h * w\n",
    "    hist = imagej_hist(src)\n",
    "    th = pixel_count/5000\n",
    "    limit = pixel_count/10\n",
    "    bin_size = (src_max - src_min) / 2**8\n",
    "    hmin = 0\n",
    "    hmax = 2**8-1\n",
    "    for i in range(len(hist)):\n",
    "        count = hist[i]\n",
    "        count = 0 if count>limit else count\n",
    "        if count > th:\n",
    "            hmin = i\n",
    "            break\n",
    "    for i in range(len(hist)):\n",
    "        count = hist[2**8-1 - i]\n",
    "        count = 0 if count>limit else count\n",
    "        if count > th:\n",
    "            hmax = 2**8-1 -i\n",
    "            break\n",
    "    tgt_min = src_min + hmin * bin_size\n",
    "    tgt_max = src_min + hmax * bin_size\n",
    "    tgt_img = ((src - tgt_min) * 2**16/(tgt_max - tgt_min))\n",
    "    tgt_img[np.where(tgt_img <= 0)] = 0\n",
    "    tgt_img[np.where(tgt_img >= 2**16 - 1)] = 2**16 - 1\n",
    "    tgt_img = tgt_img.astype(np.uint16)\n",
    "    return tgt_img"
   ],
   "metadata": {
    "collapsed": false,
    "pycharm": {
     "name": "#%%\n"
    },
    "is_executing": true
   }
  },
  {
   "cell_type": "code",
   "execution_count": null,
   "outputs": [],
   "source": [
    "from matplotlib.pyplot import figure\n",
    "from pathlib import Path\n",
    "plt.rcParams[\"text.usetex\"] = True\n",
    "plt.rcParams[\"font.size\"] = 30\n",
    "figure(figsize=(8, 16))\n",
    "src = cv2.imread(\"./test.tif\", -1)[512:1536, 512:1536][750:950, 50:250]\n",
    "tgt = auto_br(src)\n",
    "plt.subplot(2,1,1)\n",
    "plt.hist(src.ravel(), 256, [0, 65536])\n",
    "plt.xlabel(\" \\n \\n\")\n",
    "plt.subplot(2,1,2)\n",
    "plt.hist(tgt.ravel(), 256, [0, 65536])\n",
    "plt.savefig(\"./imgs/hist.jpg\")\n",
    "plt.show()"
   ],
   "metadata": {
    "collapsed": false,
    "pycharm": {
     "name": "#%%\n"
    },
    "is_executing": true
   }
  },
  {
   "cell_type": "code",
   "outputs": [],
   "source": [],
   "metadata": {
    "collapsed": false
   }
  }
 ],
 "metadata": {
  "kernelspec": {
   "display_name": "Python 3",
   "language": "python",
   "name": "python3"
  },
  "language_info": {
   "codemirror_mode": {
    "name": "ipython",
    "version": 2
   },
   "file_extension": ".py",
   "mimetype": "text/x-python",
   "name": "python",
   "nbconvert_exporter": "python",
   "pygments_lexer": "ipython2",
   "version": "2.7.6"
  }
 },
 "nbformat": 4,
 "nbformat_minor": 0
}
